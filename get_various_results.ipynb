{
 "cells": [
  {
   "cell_type": "code",
   "execution_count": 1,
   "metadata": {},
   "outputs": [],
   "source": [
    "import pandas as pd\n",
    "import matplotlib.pyplot as plt\n",
    "import numpy as np\n",
    "import pickle"
   ]
  },
  {
   "cell_type": "markdown",
   "metadata": {},
   "source": [
    "# Binning summary"
   ]
  },
  {
   "cell_type": "code",
   "execution_count": 226,
   "metadata": {},
   "outputs": [],
   "source": [
    "#Specify the file \n",
    "file_name = 'D:\\My stuff\\School\\Master\\Master Thesis\\Project\\Run 202307210204 nas\\Binning summary\\LogReg_GiveMeSomeCredit_nas.xlsx'\n",
    "remove_missings = False"
   ]
  },
  {
   "cell_type": "code",
   "execution_count": 227,
   "metadata": {},
   "outputs": [],
   "source": [
    "#Read all sheets\n",
    "dfs = pd.read_excel(file_name, sheet_name = None)"
   ]
  },
  {
   "cell_type": "code",
   "execution_count": 228,
   "metadata": {},
   "outputs": [],
   "source": [
    "#Adjust the tables\n",
    "new_dfs = {}\n",
    "for sheet in dfs: #Loop through all variables\n",
    "    df = dfs[sheet] #Get the info for a given variable\n",
    "    cols_to_drop = ['Unnamed: 0', 'JS'] #Specify the columns to drop\n",
    "    for i in cols_to_drop: #Drop obsolete columns\n",
    "        df.drop(i, axis = 1, inplace = True) \n",
    "    df.loc[df['Bin'].isna(), 'Bin'] = 'Totals' #Adjust the bin column so it can be used as index\n",
    "    df.set_index('Bin', inplace = True) #Set the bins as indices\n",
    "    df.drop('Special', axis = 0, inplace = True) #Drop the empty special bin\n",
    "    if remove_missings: #Drop the bin for missings if required\n",
    "        df.drop('Missing', axis = 0, inplace = True)\n",
    "    for i in ['Count (%)', 'Event rate']: #Convert two columns to percentages\n",
    "        df[i] = df[i] * 100\n",
    "    df = df.round(2) #Round numerical columns for clarity\n",
    "    df.rename(columns = {'Event rate' : 'ER'}, inplace = True) #Rename columns for clarity\n",
    "    new_dfs[sheet] = df #Store the adjusted data set"
   ]
  },
  {
   "cell_type": "code",
   "execution_count": 229,
   "metadata": {},
   "outputs": [],
   "source": [
    "#Get IVs for all variables\n",
    "IVs = {}\n",
    "for sheet in new_dfs:\n",
    "    IVs[sheet] = new_dfs[sheet].loc['Totals', 'IV'] #Extract IV for a given variable\n",
    "IVs = pd.Series(IVs).sort_values(ascending = False) #Sort from best to worst"
   ]
  },
  {
   "cell_type": "code",
   "execution_count": 230,
   "metadata": {},
   "outputs": [],
   "source": [
    "#Adjust variable names\n",
    "IVs.rename({'RevolvingUtilizationOfUnsecured' : 'RevUtilization', 'NumberOfTime30-59DaysPastDueNot' : 'NoOfTimePD',\n",
    "             'NumberOfOpenCreditLinesAndLoans' : 'NoOfLoans', 'NumberRealEstateLoansOrLines' : 'NoOfMortgs', 'NumberOfDependents' :'NoOfDeps'}, inplace = True)"
   ]
  },
  {
   "cell_type": "code",
   "execution_count": 232,
   "metadata": {},
   "outputs": [
    {
     "data": {
      "text/plain": [
       "Text(0, 0.5, 'IV')"
      ]
     },
     "execution_count": 232,
     "metadata": {},
     "output_type": "execute_result"
    },
    {
     "data": {
      "image/png": "[encoded data removed]",
      "text/plain": [
       "<Figure size 640x480 with 1 Axes>"
      ]
     },
     "metadata": {},
     "output_type": "display_data"
    }
   ],
   "source": [
    "#Plot IVs\n",
    "IVs.plot.bar(color = 'grey')\n",
    "plt.xticks(rotation = 45)\n",
    "plt.ylabel('IV')\n",
    "#plt.savefig('Run 202307170821 main/IVs.pdf', bbox_inches = 'tight')"
   ]
  },
  {
   "cell_type": "code",
   "execution_count": 235,
   "metadata": {},
   "outputs": [
    {
     "name": "stderr",
     "output_type": "stream",
     "text": [
      "C:\\Users\\matya\\AppData\\Local\\Temp\\ipykernel_7552\\1763262388.py:3: FutureWarning: In future versions `DataFrame.to_latex` is expected to utilise the base implementation of `Styler.to_latex` for formatting and rendering. The arguments signature may therefore change. It is recommended instead to use `DataFrame.style.to_latex` which also contains additional functionality.\n",
      "  new_dfs[var].to_latex(f'Run 202307210204 nas/{var}.txt', index = True, na_rep = '', position = '!htbp', caption = f'Binning of {var}', label = f'tab:{var[:3].lower()}')\n"
     ]
    }
   ],
   "source": [
    "#Export given variable to latex\n",
    "var = 'MonthlyIncome'\n",
    "new_dfs[var].to_latex(f'Run 202307210204 nas/{var}.txt', index = True, na_rep = '', position = '!htbp', caption = f'Binning of {var}', label = f'tab:{var[:3].lower()}')"
   ]
  },
  {
   "cell_type": "markdown",
   "metadata": {},
   "source": [
    "# Model coefficients"
   ]
  },
  {
   "cell_type": "code",
   "execution_count": 33,
   "metadata": {},
   "outputs": [],
   "source": [
    "model_file = 'D:\\My stuff\\School\\Master\\Master Thesis\\Project\\Run 202307170821 main\\Models\\LogReg_HomeCredit_binned_main.pkl'\n",
    "with open(model_file, 'rb') as handle:\n",
    "    model = pickle.load(handle)"
   ]
  },
  {
   "cell_type": "code",
   "execution_count": 40,
   "metadata": {},
   "outputs": [
    {
     "data": {
      "text/plain": [
       "7"
      ]
     },
     "execution_count": 40,
     "metadata": {},
     "output_type": "execute_result"
    }
   ],
   "source": [
    "import numpy as np\n",
    "sum(np.array(list(model['model'].intercept_) + list(model['model'].coef_[0])) == 0)"
   ]
  },
  {
   "cell_type": "code",
   "execution_count": null,
   "metadata": {},
   "outputs": [],
   "source": [
    "model_coefs = pd.Series(list(model['model'].intercept_) + list(model['model'].coef_[0]), index = ['Intercept'] + model['binning'].transformers_[0][1]['binning'].variable_names)"
   ]
  },
  {
   "cell_type": "code",
   "execution_count": 32,
   "metadata": {},
   "outputs": [
    {
     "name": "stderr",
     "output_type": "stream",
     "text": [
      "C:\\Users\\matya\\AppData\\Local\\Temp\\ipykernel_5784\\2652368389.py:1: FutureWarning: In future versions `DataFrame.to_latex` is expected to utilise the base implementation of `Styler.to_latex` for formatting and rendering. The arguments signature may therefore change. It is recommended instead to use `DataFrame.style.to_latex` which also contains additional functionality.\n",
      "  model_coefs.to_latex(f'D:\\My stuff\\School\\Master\\Master Thesis\\Project\\Run 202307170821 main\\Model coefficients LogReg_GMSC_binned_main.txt', index = True, na_rep = '', position = '!htbp', caption = f'Model coefficients for LogReg GMSC (binned)', label = f'tab:logcoef')\n"
     ]
    }
   ],
   "source": [
    "model_coefs.to_latex(f'D:\\My stuff\\School\\Master\\Master Thesis\\Project\\Run 202307170821 main\\Model coefficients LogReg_GMSC_binned_main.txt', index = True, na_rep = '', position = '!htbp', caption = f'Model coefficients for LogReg GMSC (binned)', label = f'tab:logcoef')"
   ]
  },
  {
   "cell_type": "markdown",
   "metadata": {},
   "source": [
    "# Add averages to metric results"
   ]
  },
  {
   "cell_type": "code",
   "execution_count": 23,
   "metadata": {},
   "outputs": [],
   "source": [
    "#Specify the file name\n",
    "file_name_res = 'D:\\My stuff\\School\\Master\\Master Thesis\\Project\\Run 202307170821 main\\Evaluation\\main.xlsx'"
   ]
  },
  {
   "cell_type": "code",
   "execution_count": 24,
   "metadata": {},
   "outputs": [],
   "source": [
    "#Load the file\n",
    "df_res = pd.read_excel(file_name_res, sheet_name = None, index_col = 0)"
   ]
  },
  {
   "cell_type": "code",
   "execution_count": 25,
   "metadata": {},
   "outputs": [],
   "source": [
    "#Adjust the results\n",
    "metric_names = df_res['Metrics'].columns.to_list()\n",
    "df_res['Metrics']['Method'] = [i.split('_')[0] for i in df_res['Metrics'].index]\n",
    "df_res['Metrics']['Data set'] = [i.split('_')[1] for i in df_res['Metrics'].index]\n",
    "df_res['Metrics']['Type'] = [i.split('_')[2] for i in df_res['Metrics'].index]\n",
    "df_res['Metrics'] = df_res['Metrics'].loc[:, ['Method', 'Data set', 'Type'] + metric_names] #Move indicator columns in the beginning\n",
    "df_res['Metrics'].sort_values(['Method', 'Data set', 'Type'], inplace = True)\n",
    "#Separate the results by models and export to latex\n",
    "dfs = {}\n",
    "for model_name in df_res['Metrics']['Method'].unique(): #Loop through all models\n",
    "    df = df_res['Metrics'].loc[df_res['Metrics']['Method'] == model_name, :].copy() #Subset the original data set\n",
    "    df.drop('Method', axis = 1, inplace = True) #Drop the obsolete model column\n",
    "    df.reset_index(drop = True, inplace = True) #Disregard the index\n",
    "    binned_avg = df.loc[df['Type'] == 'binned', metric_names].mean().to_list()\n",
    "    raw_avg = df.loc[df['Type'] == 'raw', metric_names].mean().to_list()\n",
    "    df.loc[df.shape[0], :] = ['binned > raw', '-'] + (df.loc[df['Type'] == 'binned', metric_names].reset_index(drop = True) > df.loc[df['Type'] == 'raw', metric_names].reset_index(drop = True)).sum().to_list()\n",
    "    df.loc[df.shape[0] - 1, 'Brier score'] = (df.loc[df['Type'] == 'binned', 'Brier score'].reset_index(drop = True) < df.loc[df['Type'] == 'raw', 'Brier score'].reset_index(drop = True)).sum() #Adjust Brier score since the lower the better\n",
    "    df.loc[df.shape[0], :] = ['Average', 'binned'] + binned_avg\n",
    "    df.loc[df.shape[0], :] = ['Average', 'raw'] + raw_avg\n",
    "    dfs[model_name] = df"
   ]
  },
  {
   "cell_type": "code",
   "execution_count": 26,
   "metadata": {},
   "outputs": [],
   "source": [
    "#Adjust the permtests\n",
    "metric_names = df_res['Permutation test'].columns.to_list()\n",
    "df_res['Permutation test']['Method'] = [i.split('_')[0] for i in df_res['Permutation test'].index]\n",
    "df_res['Permutation test']['Data set'] = [i.split('_')[1] for i in df_res['Permutation test'].index]\n",
    "df_res['Permutation test'] = df_res['Permutation test'].loc[:, ['Method', 'Data set'] + metric_names] #Move indicator columns in the beginning\n",
    "df_res['Permutation test'].sort_values(['Method', 'Data set'], inplace = True)\n",
    "#Separate the results by models and export to latex\n",
    "dfs_perm = {}\n",
    "for model_name in df_res['Permutation test']['Method'].unique(): #Loop through all models\n",
    "    df = df_res['Permutation test'].loc[df_res['Permutation test']['Method'] == model_name, :].copy() #Subset the original data set\n",
    "    df.drop('Method', axis = 1, inplace = True) #Drop the obsolete model column\n",
    "    df.reset_index(drop = True, inplace = True) #Disregard the index\n",
    "    df.loc[df.shape[0], :] = ['p <= 0.05'] + (df.loc[:, metric_names] <= 0.05).sum().to_list()\n",
    "    dfs_perm[model_name] = df"
   ]
  },
  {
   "cell_type": "code",
   "execution_count": 61,
   "metadata": {},
   "outputs": [
    {
     "data": {
      "text/html": [
       "<div>\n",
       "<style scoped>\n",
       "    .dataframe tbody tr th:only-of-type {\n",
       "        vertical-align: middle;\n",
       "    }\n",
       "\n",
       "    .dataframe tbody tr th {\n",
       "        vertical-align: top;\n",
       "    }\n",
       "\n",
       "    .dataframe thead th {\n",
       "        text-align: right;\n",
       "    }\n",
       "</style>\n",
       "<table border=\"1\" class=\"dataframe\">\n",
       "  <thead>\n",
       "    <tr style=\"text-align: right;\">\n",
       "      <th></th>\n",
       "      <th>Data set</th>\n",
       "      <th>Type</th>\n",
       "      <th>AUC</th>\n",
       "      <th>F2-score</th>\n",
       "      <th>Brier score</th>\n",
       "      <th>KS statistic</th>\n",
       "      <th>Partial GINI Index</th>\n",
       "      <th>H-measure</th>\n",
       "    </tr>\n",
       "  </thead>\n",
       "  <tbody>\n",
       "    <tr>\n",
       "      <th>0</th>\n",
       "      <td>CreditApproval</td>\n",
       "      <td>binned</td>\n",
       "      <td>0.886310</td>\n",
       "      <td>0.819892</td>\n",
       "      <td>0.138943</td>\n",
       "      <td>0.683333</td>\n",
       "      <td>0.713178</td>\n",
       "      <td>0.578628</td>\n",
       "    </tr>\n",
       "    <tr>\n",
       "      <th>1</th>\n",
       "      <td>CreditApproval</td>\n",
       "      <td>raw</td>\n",
       "      <td>0.855000</td>\n",
       "      <td>0.819892</td>\n",
       "      <td>0.172279</td>\n",
       "      <td>0.670476</td>\n",
       "      <td>0.237500</td>\n",
       "      <td>0.523168</td>\n",
       "    </tr>\n",
       "    <tr>\n",
       "      <th>2</th>\n",
       "      <td>CreditCardTaiwan</td>\n",
       "      <td>binned</td>\n",
       "      <td>0.759620</td>\n",
       "      <td>0.520200</td>\n",
       "      <td>0.187222</td>\n",
       "      <td>0.405745</td>\n",
       "      <td>0.237041</td>\n",
       "      <td>0.259751</td>\n",
       "    </tr>\n",
       "    <tr>\n",
       "      <th>3</th>\n",
       "      <td>CreditCardTaiwan</td>\n",
       "      <td>raw</td>\n",
       "      <td>0.670445</td>\n",
       "      <td>0.394897</td>\n",
       "      <td>0.416962</td>\n",
       "      <td>0.263441</td>\n",
       "      <td>0.148461</td>\n",
       "      <td>0.118907</td>\n",
       "    </tr>\n",
       "    <tr>\n",
       "      <th>4</th>\n",
       "      <td>GiveMeSomeCredit</td>\n",
       "      <td>binned</td>\n",
       "      <td>0.805468</td>\n",
       "      <td>0.327702</td>\n",
       "      <td>0.088479</td>\n",
       "      <td>0.486348</td>\n",
       "      <td>0.458243</td>\n",
       "      <td>0.305578</td>\n",
       "    </tr>\n",
       "    <tr>\n",
       "      <th>5</th>\n",
       "      <td>GiveMeSomeCredit</td>\n",
       "      <td>raw</td>\n",
       "      <td>0.691049</td>\n",
       "      <td>0.218668</td>\n",
       "      <td>0.066822</td>\n",
       "      <td>0.270625</td>\n",
       "      <td>0.352845</td>\n",
       "      <td>0.126812</td>\n",
       "    </tr>\n",
       "    <tr>\n",
       "      <th>6</th>\n",
       "      <td>HomeCredit</td>\n",
       "      <td>binned</td>\n",
       "      <td>0.688464</td>\n",
       "      <td>0.199770</td>\n",
       "      <td>0.890726</td>\n",
       "      <td>0.289343</td>\n",
       "      <td>0.129610</td>\n",
       "      <td>0.115313</td>\n",
       "    </tr>\n",
       "    <tr>\n",
       "      <th>7</th>\n",
       "      <td>HomeCredit</td>\n",
       "      <td>raw</td>\n",
       "      <td>0.605359</td>\n",
       "      <td>0.134747</td>\n",
       "      <td>0.072548</td>\n",
       "      <td>0.159099</td>\n",
       "      <td>0.210744</td>\n",
       "      <td>0.035671</td>\n",
       "    </tr>\n",
       "    <tr>\n",
       "      <th>8</th>\n",
       "      <td>SouthGermanCredit</td>\n",
       "      <td>binned</td>\n",
       "      <td>0.634818</td>\n",
       "      <td>0.441640</td>\n",
       "      <td>0.218104</td>\n",
       "      <td>0.225339</td>\n",
       "      <td>0.094422</td>\n",
       "      <td>0.117168</td>\n",
       "    </tr>\n",
       "    <tr>\n",
       "      <th>9</th>\n",
       "      <td>SouthGermanCredit</td>\n",
       "      <td>raw</td>\n",
       "      <td>0.629500</td>\n",
       "      <td>0.453074</td>\n",
       "      <td>0.218014</td>\n",
       "      <td>0.230248</td>\n",
       "      <td>0.152652</td>\n",
       "      <td>0.103634</td>\n",
       "    </tr>\n",
       "    <tr>\n",
       "      <th>10</th>\n",
       "      <td>binned &gt; raw</td>\n",
       "      <td>-</td>\n",
       "      <td>5.000000</td>\n",
       "      <td>3.000000</td>\n",
       "      <td>2.000000</td>\n",
       "      <td>4.000000</td>\n",
       "      <td>3.000000</td>\n",
       "      <td>5.000000</td>\n",
       "    </tr>\n",
       "    <tr>\n",
       "      <th>11</th>\n",
       "      <td>Average</td>\n",
       "      <td>binned</td>\n",
       "      <td>0.754936</td>\n",
       "      <td>0.461841</td>\n",
       "      <td>0.304695</td>\n",
       "      <td>0.418022</td>\n",
       "      <td>0.326499</td>\n",
       "      <td>0.275288</td>\n",
       "    </tr>\n",
       "    <tr>\n",
       "      <th>12</th>\n",
       "      <td>Average</td>\n",
       "      <td>raw</td>\n",
       "      <td>0.690270</td>\n",
       "      <td>0.404256</td>\n",
       "      <td>0.189325</td>\n",
       "      <td>0.318778</td>\n",
       "      <td>0.220440</td>\n",
       "      <td>0.181638</td>\n",
       "    </tr>\n",
       "  </tbody>\n",
       "</table>\n",
       "</div>"
      ],
      "text/plain": [
       "             Data set    Type       AUC  F2-score  Brier score  KS statistic  \\\n",
       "0      CreditApproval  binned  0.886310  0.819892     0.138943      0.683333   \n",
       "1      CreditApproval     raw  0.855000  0.819892     0.172279      0.670476   \n",
       "2    CreditCardTaiwan  binned  0.759620  0.520200     0.187222      0.405745   \n",
       "3    CreditCardTaiwan     raw  0.670445  0.394897     0.416962      0.263441   \n",
       "4    GiveMeSomeCredit  binned  0.805468  0.327702     0.088479      0.486348   \n",
       "5    GiveMeSomeCredit     raw  0.691049  0.218668     0.066822      0.270625   \n",
       "6          HomeCredit  binned  0.688464  0.199770     0.890726      0.289343   \n",
       "7          HomeCredit     raw  0.605359  0.134747     0.072548      0.159099   \n",
       "8   SouthGermanCredit  binned  0.634818  0.441640     0.218104      0.225339   \n",
       "9   SouthGermanCredit     raw  0.629500  0.453074     0.218014      0.230248   \n",
       "10       binned > raw       -  5.000000  3.000000     2.000000      4.000000   \n",
       "11            Average  binned  0.754936  0.461841     0.304695      0.418022   \n",
       "12            Average     raw  0.690270  0.404256     0.189325      0.318778   \n",
       "\n",
       "    Partial GINI Index  H-measure  \n",
       "0             0.713178   0.578628  \n",
       "1             0.237500   0.523168  \n",
       "2             0.237041   0.259751  \n",
       "3             0.148461   0.118907  \n",
       "4             0.458243   0.305578  \n",
       "5             0.352845   0.126812  \n",
       "6             0.129610   0.115313  \n",
       "7             0.210744   0.035671  \n",
       "8             0.094422   0.117168  \n",
       "9             0.152652   0.103634  \n",
       "10            3.000000   5.000000  \n",
       "11            0.326499   0.275288  \n",
       "12            0.220440   0.181638  "
      ]
     },
     "execution_count": 61,
     "metadata": {},
     "output_type": "execute_result"
    }
   ],
   "source": [
    "dfs['GaussNB']"
   ]
  },
  {
   "cell_type": "code",
   "execution_count": 62,
   "metadata": {},
   "outputs": [
    {
     "data": {
      "text/html": [
       "<div>\n",
       "<style scoped>\n",
       "    .dataframe tbody tr th:only-of-type {\n",
       "        vertical-align: middle;\n",
       "    }\n",
       "\n",
       "    .dataframe tbody tr th {\n",
       "        vertical-align: top;\n",
       "    }\n",
       "\n",
       "    .dataframe thead th {\n",
       "        text-align: right;\n",
       "    }\n",
       "</style>\n",
       "<table border=\"1\" class=\"dataframe\">\n",
       "  <thead>\n",
       "    <tr style=\"text-align: right;\">\n",
       "      <th></th>\n",
       "      <th>Data set</th>\n",
       "      <th>AUC</th>\n",
       "      <th>F2-score</th>\n",
       "      <th>Brier score</th>\n",
       "      <th>KS statistic</th>\n",
       "      <th>Partial GINI Index</th>\n",
       "      <th>H-measure</th>\n",
       "    </tr>\n",
       "  </thead>\n",
       "  <tbody>\n",
       "    <tr>\n",
       "      <th>0</th>\n",
       "      <td>CreditApproval</td>\n",
       "      <td>0.0472</td>\n",
       "      <td>0.5886</td>\n",
       "      <td>0.0922</td>\n",
       "      <td>0.2038</td>\n",
       "      <td>0.0344</td>\n",
       "      <td>0.1398</td>\n",
       "    </tr>\n",
       "    <tr>\n",
       "      <th>1</th>\n",
       "      <td>CreditCardTaiwan</td>\n",
       "      <td>0.0000</td>\n",
       "      <td>0.0000</td>\n",
       "      <td>0.0000</td>\n",
       "      <td>0.0000</td>\n",
       "      <td>0.1004</td>\n",
       "      <td>0.0000</td>\n",
       "    </tr>\n",
       "    <tr>\n",
       "      <th>2</th>\n",
       "      <td>GiveMeSomeCredit</td>\n",
       "      <td>0.0000</td>\n",
       "      <td>0.0000</td>\n",
       "      <td>1.0000</td>\n",
       "      <td>0.0000</td>\n",
       "      <td>0.0000</td>\n",
       "      <td>0.0000</td>\n",
       "    </tr>\n",
       "    <tr>\n",
       "      <th>3</th>\n",
       "      <td>HomeCredit</td>\n",
       "      <td>0.0000</td>\n",
       "      <td>0.0000</td>\n",
       "      <td>1.0000</td>\n",
       "      <td>0.0000</td>\n",
       "      <td>1.0000</td>\n",
       "      <td>0.0000</td>\n",
       "    </tr>\n",
       "    <tr>\n",
       "      <th>4</th>\n",
       "      <td>SouthGermanCredit</td>\n",
       "      <td>0.3270</td>\n",
       "      <td>0.3704</td>\n",
       "      <td>0.5032</td>\n",
       "      <td>0.4712</td>\n",
       "      <td>0.7268</td>\n",
       "      <td>0.3208</td>\n",
       "    </tr>\n",
       "    <tr>\n",
       "      <th>5</th>\n",
       "      <td>p &lt;= 0.05</td>\n",
       "      <td>4.0000</td>\n",
       "      <td>3.0000</td>\n",
       "      <td>1.0000</td>\n",
       "      <td>3.0000</td>\n",
       "      <td>2.0000</td>\n",
       "      <td>3.0000</td>\n",
       "    </tr>\n",
       "  </tbody>\n",
       "</table>\n",
       "</div>"
      ],
      "text/plain": [
       "            Data set     AUC  F2-score  Brier score  KS statistic  \\\n",
       "0     CreditApproval  0.0472    0.5886       0.0922        0.2038   \n",
       "1   CreditCardTaiwan  0.0000    0.0000       0.0000        0.0000   \n",
       "2   GiveMeSomeCredit  0.0000    0.0000       1.0000        0.0000   \n",
       "3         HomeCredit  0.0000    0.0000       1.0000        0.0000   \n",
       "4  SouthGermanCredit  0.3270    0.3704       0.5032        0.4712   \n",
       "5          p <= 0.05  4.0000    3.0000       1.0000        3.0000   \n",
       "\n",
       "   Partial GINI Index  H-measure  \n",
       "0              0.0344     0.1398  \n",
       "1              0.1004     0.0000  \n",
       "2              0.0000     0.0000  \n",
       "3              1.0000     0.0000  \n",
       "4              0.7268     0.3208  \n",
       "5              2.0000     3.0000  "
      ]
     },
     "execution_count": 62,
     "metadata": {},
     "output_type": "execute_result"
    }
   ],
   "source": [
    "dfs_perm['GaussNB']"
   ]
  },
  {
   "cell_type": "markdown",
   "metadata": {},
   "source": [
    "# Get evaluation plot"
   ]
  },
  {
   "cell_type": "code",
   "execution_count": 2,
   "metadata": {},
   "outputs": [],
   "source": [
    "#Specify file names\n",
    "model_file_binned = 'D:\\My stuff\\School\\Master\\Master Thesis\\Project\\Run 202307170821 main\\Models\\LogReg_HomeCredit_binned_main.pkl'\n",
    "model_file_raw = 'D:\\My stuff\\School\\Master\\Master Thesis\\Project\\Run 202307170821 main\\Models\\LogReg_HomeCredit_raw_main.pkl'"
   ]
  },
  {
   "cell_type": "code",
   "execution_count": 3,
   "metadata": {},
   "outputs": [],
   "source": [
    "#Load the models\n",
    "with open(model_file_binned, 'rb') as handle:\n",
    "    model_binned = pickle.load(handle)\n",
    "with open(model_file_raw, 'rb') as handle:\n",
    "    model_raw = pickle.load(handle)"
   ]
  },
  {
   "cell_type": "code",
   "execution_count": 4,
   "metadata": {},
   "outputs": [],
   "source": [
    "#Load the test set\n",
    "df_test = pd.read_csv('D:\\My stuff\\School\\Master\\Master Thesis\\Data\\Test data\\HomeCredit_main.csv')"
   ]
  },
  {
   "cell_type": "code",
   "execution_count": 5,
   "metadata": {},
   "outputs": [],
   "source": [
    "#Get predictions\n",
    "indep_vars = df_test.columns.to_list()\n",
    "indep_vars.remove('Target') #Drop the dependent variable form the list\n",
    "preds_binned = model_binned.predict_proba(df_test.loc[:, indep_vars])[:, 1]\n",
    "preds_raw = model_raw.predict_proba(df_test.loc[:, indep_vars])[:, 1]"
   ]
  },
  {
   "cell_type": "code",
   "execution_count": 8,
   "metadata": {},
   "outputs": [],
   "source": [
    "#Evaluate\n",
    "from sklearn.metrics import roc_auc_score\n",
    "generator = np.random.RandomState(69) #Initiate a generator\n",
    "ids = generator.choice(2, (5000, preds_binned.shape[0]), replace = True) #Generate ids for all repetitions\n",
    "preds = np.stack([preds_binned, preds_raw], axis = 1)[range(preds_binned.shape[0]), ids] #Put the predictions into a single array\n",
    "res = np.apply_along_axis(lambda x: roc_auc_score(df_test['Target'], x), 1, preds) #Apply the function to each column\n",
    "res = pd.DataFrame(list(res)) #Create a Data Frame from the results\n",
    "res1 = roc_auc_score(df_test['Target'], preds_binned) #Get the performance of the model in question"
   ]
  },
  {
   "cell_type": "code",
   "execution_count": 22,
   "metadata": {},
   "outputs": [
    {
     "data": {
      "image/png": "[encoded data removed]",
      "text/plain": [
       "<Figure size 640x480 with 1 Axes>"
      ]
     },
     "metadata": {},
     "output_type": "display_data"
    }
   ],
   "source": [
    "#Plot\n",
    "plt.hist(res, 'auto', color = 'grey') #Plot a histogram\n",
    "plt.xlabel('AUC') #Add a label for the x axis\n",
    "plt.axvline(res1, color = 'black', label = 'Binned model') #Add a vertical line with the result of the model in question\n",
    "plt.legend(loc = 'upper left', frameon = False) #Add a legend\n",
    "plt.savefig('Run 202307170821 main/perm_test.pdf', bbox_inches = 'tight') #Save the plot"
   ]
  },
  {
   "cell_type": "markdown",
   "metadata": {},
   "source": [
    "# Get tree structure"
   ]
  },
  {
   "cell_type": "code",
   "execution_count": 2,
   "metadata": {},
   "outputs": [],
   "source": [
    "#Specify the file names\n",
    "tree_binned_file_name = 'D:\\My stuff\\School\\Master\\Master Thesis\\Project\\Run 202307202046 main\\Models\\DecTree_GiveMeSomeCredit_binned_main.pkl'\n",
    "tree_raw_file_name = 'D:\\My stuff\\School\\Master\\Master Thesis\\Project\\Run 202307202046 main\\Models\\DecTree_GiveMeSomeCredit_raw_main.pkl'\n",
    "data_file_name = 'D:\\My stuff\\School\\Master\\Master Thesis\\Data\\Train data\\GiveMeSomeCredit_main.csv'"
   ]
  },
  {
   "cell_type": "code",
   "execution_count": 3,
   "metadata": {},
   "outputs": [],
   "source": [
    "#Load the models\n",
    "with open(tree_binned_file_name, 'rb') as handle:\n",
    "    tree_binned = pickle.load(handle)\n",
    "with open(tree_raw_file_name, 'rb') as handle:\n",
    "    tree_raw = pickle.load(handle)"
   ]
  },
  {
   "cell_type": "code",
   "execution_count": 4,
   "metadata": {},
   "outputs": [],
   "source": [
    "#Load data and get feature names\n",
    "df = pd.read_csv(data_file_name)\n",
    "feature_names = df.columns.to_list()"
   ]
  },
  {
   "cell_type": "code",
   "execution_count": 5,
   "metadata": {},
   "outputs": [
    {
     "data": {
      "image/png": "[encoded data removed]",
      "text/plain": [
       "<Figure size 640x480 with 1 Axes>"
      ]
     },
     "metadata": {},
     "output_type": "display_data"
    }
   ],
   "source": [
    "#Plot the raw tree\n",
    "from sklearn.tree import plot_tree\n",
    "tree_raw_plot = plot_tree(tree_raw, feature_names = feature_names, label = 'None', impurity = False, rounded = True, max_depth = 1)\n",
    "plt.savefig('Run 202307202046 main/tree_raw_GMSC.pdf', bbox_inches = 'tight')"
   ]
  },
  {
   "cell_type": "code",
   "execution_count": 6,
   "metadata": {},
   "outputs": [
    {
     "data": {
      "image/png": "[encoded data removed]",
      "text/plain": [
       "<Figure size 640x480 with 1 Axes>"
      ]
     },
     "metadata": {},
     "output_type": "display_data"
    }
   ],
   "source": [
    "#Plot the binned tree\n",
    "tree_binned_plot = plot_tree(tree_binned['model'], feature_names = feature_names, label = 'None', impurity = False, rounded = True, max_depth = 1)\n",
    "plt.savefig('Run 202307202046 main/tree_binned_GMSC.pdf', bbox_inches = 'tight')"
   ]
  },
  {
   "cell_type": "markdown",
   "metadata": {},
   "source": [
    "# Summarize results"
   ]
  },
  {
   "cell_type": "code",
   "execution_count": 2,
   "metadata": {},
   "outputs": [],
   "source": [
    "#Specify the file name\n",
    "file_name_res = 'D:/My stuff/School/Master/Master Thesis/Project/Run 202307262207 no_outs/Evaluation/no_outs.xlsx'"
   ]
  },
  {
   "cell_type": "code",
   "execution_count": 3,
   "metadata": {},
   "outputs": [],
   "source": [
    "#Load the file\n",
    "df_res = pd.read_excel(file_name_res, sheet_name = None, index_col = 0)"
   ]
  },
  {
   "cell_type": "code",
   "execution_count": 205,
   "metadata": {},
   "outputs": [],
   "source": [
    "#Drop averages calculated in Excel\n",
    "#df_res['Metrics'] = df_res['Metrics'].loc[[i for i in df_res['Metrics'].index if i not in ['Avg_binned', 'Avg_raw']], :]\n",
    "#df_res['Permutation test'] = df_res['Permutation test'].loc[[i for i in df_res['Permutation test'].index if i != 'p <= 0.05'], :]"
   ]
  },
  {
   "cell_type": "code",
   "execution_count": 4,
   "metadata": {},
   "outputs": [],
   "source": [
    "#Adjust the results\n",
    "metric_names = df_res['Metrics'].columns.to_list()\n",
    "df_res['Metrics']['Method'] = [i.split('_')[0] for i in df_res['Metrics'].index]\n",
    "df_res['Metrics']['Data set'] = [i.split('_')[1] for i in df_res['Metrics'].index]\n",
    "df_res['Metrics']['Type'] = [i.split('_')[2] for i in df_res['Metrics'].index]\n",
    "df_res['Metrics'] = df_res['Metrics'].loc[:, ['Method', 'Data set', 'Type'] + metric_names] #Move indicator columns in the beginning\n",
    "df_res['Metrics']['Method'] = pd.Categorical(df_res['Metrics']['Method'], ['LogReg', 'DecTree', 'RandForest', 'NN', 'GaussNB']) #Specify the categories for ordering\n",
    "df_res['Metrics'].sort_values(['Method', 'Data set', 'Type'], inplace = True)\n",
    "df_res['Metrics'].reset_index(drop = True, inplace = True)\n",
    "df_res['Metrics']['Data set'] = df_res['Metrics']['Data set'].replace({'CreditApproval' : 'CA', 'GiveMeSomeCredit' : 'GMSC', 'HomeCredit' : 'HCDR', 'CreditCardTaiwan' : 'DCCCT', 'SouthGermanCredit' : 'SGCC'})"
   ]
  },
  {
   "cell_type": "code",
   "execution_count": 5,
   "metadata": {},
   "outputs": [],
   "source": [
    "#Calculate averages\n",
    "avgs = df_res['Metrics'].groupby(['Method', 'Type'])[metric_names].mean().reset_index(drop = False) #Calculate the averages\n",
    "avgs['Data set'] = 'Average' #Indicate that the rows represent averages\n",
    "avgs = avgs.loc[:, ['Method', 'Data set', 'Type'] + metric_names] #Reorder columns for clarity"
   ]
  },
  {
   "cell_type": "code",
   "execution_count": 6,
   "metadata": {},
   "outputs": [],
   "source": [
    "#Calculate total averages\n",
    "total_avgs = df_res['Metrics'].loc[df_res['Metrics']['Data set'] != 'Average', :].groupby('Type')[metric_names].mean() #Calculate total averages across all methods and data sets\n",
    "total_avgs.reset_index(drop = False, inplace = True)\n",
    "total_avgs['Method'] = 'All'\n",
    "total_avgs['Data set'] = 'Average'\n",
    "total_avgs = total_avgs.loc[:, ['Method', 'Data set', 'Type'] + metric_names] #Reorder for clarity"
   ]
  },
  {
   "cell_type": "code",
   "execution_count": 7,
   "metadata": {},
   "outputs": [],
   "source": [
    "#Calculate the number of times binned model is better\n",
    "counts = df_res['Metrics'].loc[df_res['Metrics']['Type'] == 'binned', metric_names].reset_index(drop = True) > df_res['Metrics'].loc[df_res['Metrics']['Type'] == 'raw', metric_names].reset_index(drop = True) #Indicate for each cell if binned is larger or not\n",
    "counts['Brier score'] = df_res['Metrics'].loc[df_res['Metrics']['Type'] == 'binned', 'Brier score'].values < df_res['Metrics'].loc[df_res['Metrics']['Type'] == 'raw', 'Brier score'].values\n",
    "counts['Method'] = df_res['Metrics'].loc[df_res['Metrics']['Type'] == 'binned', 'Method'].reset_index(drop = True) #Add method names\n",
    "counts = counts.groupby('Method').sum().reset_index(drop = False) #Sum occurrences for each method\n",
    "counts['Data set'] = 'binned > raw' #Add indicator\n",
    "counts['Type'] = '-' #Add type indicator\n",
    "counts = counts.loc[:, ['Method', 'Data set', 'Type'] + metric_names] #Reorder columns for clarity"
   ]
  },
  {
   "cell_type": "code",
   "execution_count": 8,
   "metadata": {},
   "outputs": [],
   "source": [
    "#Calculate total counts\n",
    "total_counts = counts[metric_names].sum()\n",
    "total_counts['Method'] = 'All'\n",
    "total_counts['Data set'] = 'binned > raw'\n",
    "total_counts['Type'] = '-'\n",
    "total_counts = total_counts.loc[['Method', 'Data set', 'Type'] + metric_names]"
   ]
  },
  {
   "cell_type": "code",
   "execution_count": 9,
   "metadata": {},
   "outputs": [],
   "source": [
    "#Define a function wrapping a value in latex bold command\n",
    "def make_bold(x):\n",
    "    '''\n",
    "    Function wrapping a value in latex bold command\n",
    "    '''\n",
    "    return f'\\textbf{{{x}}}'"
   ]
  },
  {
   "cell_type": "code",
   "execution_count": 10,
   "metadata": {},
   "outputs": [],
   "source": [
    "#Add averages to the data set and make a copy for export to latex\n",
    "df_res['Metrics'] = pd.concat([df_res['Metrics'], avgs, total_avgs], ignore_index = True) #Add averages\n",
    "df_metrics_latex = df_res['Metrics'].copy() #Make a copy of the data set for export to latex\n",
    "df_metrics_latex.loc[:, metric_names] = round(df_metrics_latex.loc[:, metric_names], 3).astype(str) #Round to the third decimal and convert to text"
   ]
  },
  {
   "cell_type": "code",
   "execution_count": 11,
   "metadata": {},
   "outputs": [],
   "source": [
    "#Add latex bold command indicating better performance of given model type\n",
    "for idx in range(0, df_res['Metrics'].shape[0], 2): #Loop through all model/data set combinations\n",
    "    for col in metric_names: #Loop through all columns\n",
    "        if df_res['Metrics'].loc[idx, col] > df_res['Metrics'].loc[idx + 1, col]: #Check if binned is larger\n",
    "            if col == 'Brier score': #The lower BS the better => different treatment\n",
    "                df_metrics_latex.loc[idx + 1, col] = make_bold(df_metrics_latex.loc[idx + 1, col])\n",
    "            else:\n",
    "                df_metrics_latex.loc[idx, col] = make_bold(df_metrics_latex.loc[idx, col])\n",
    "        elif df_res['Metrics'].loc[idx, col] < df_res['Metrics'].loc[idx + 1, col]: #Check if binned is smaller\n",
    "            if col == 'Brier score': #The lower BS the better => different treatment\n",
    "                df_metrics_latex.loc[idx, col] = make_bold(df_metrics_latex.loc[idx, col])\n",
    "            else:\n",
    "                df_metrics_latex.loc[idx + 1, col] = make_bold(df_metrics_latex.loc[idx + 1, col])"
   ]
  },
  {
   "cell_type": "code",
   "execution_count": 12,
   "metadata": {},
   "outputs": [],
   "source": [
    "#Add counts and sort the final data set\n",
    "df_metrics_latex = pd.concat([df_metrics_latex, counts], ignore_index = True) #Add counts\n",
    "df_metrics_latex.loc[df_metrics_latex.shape[0], :] = total_counts #Add total counts\n",
    "df_metrics_latex['Method'] = pd.Categorical(df_metrics_latex['Method'], ['LogReg', 'DecTree', 'RandForest', 'NN', 'GaussNB', 'All']) #Specify the categories for ordering\n",
    "df_metrics_latex['Data set'] = pd.Categorical(df_metrics_latex['Data set'], ['CA', 'DCCCT', 'GMSC', 'HCDR', 'SGCC', 'binned > raw', 'Average'])\n",
    "df_metrics_latex.sort_values(['Method', 'Data set', 'Type'], inplace = True, ignore_index = True)"
   ]
  },
  {
   "cell_type": "code",
   "execution_count": 20,
   "metadata": {},
   "outputs": [
    {
     "name": "stderr",
     "output_type": "stream",
     "text": [
      "C:\\Users\\matya\\AppData\\Local\\Temp\\ipykernel_14252\\1195189442.py:2: FutureWarning: In future versions `DataFrame.to_latex` is expected to utilise the base implementation of `Styler.to_latex` for formatting and rendering. The arguments signature may therefore change. It is recommended instead to use `DataFrame.style.to_latex` which also contains additional functionality.\n",
      "  df_metrics_latex.to_latex('Run 202307262207 no_outs/complete_results_latex.txt', index = False, na_rep = '', caption = 'Complete results - estimation without outliers', label = 'tab:nooutscompres', position = '!htbp', escape = False)\n"
     ]
    }
   ],
   "source": [
    "#Export to latex\n",
    "df_metrics_latex.to_latex('Run 202307262207 no_outs/complete_results_latex.txt', index = False, na_rep = '', caption = 'Complete results - estimation without outliers', label = 'tab:nooutscompres', position = '!htbp', escape = False)"
   ]
  },
  {
   "cell_type": "code",
   "execution_count": 15,
   "metadata": {},
   "outputs": [],
   "source": [
    "#Adjust permutation tests\n",
    "df_res['Permutation test']['Method'] = [i.split('_')[0] for i in df_res['Permutation test'].index]\n",
    "df_res['Permutation test']['Data set'] = [i.split('_')[1] for i in df_res['Permutation test'].index]\n",
    "df_res['Permutation test'] = df_res['Permutation test'].loc[:, ['Method', 'Data set'] + metric_names] #Move indicator columns in the beginning\n",
    "df_res['Permutation test']['Method'] = pd.Categorical(df_res['Permutation test']['Method'], ['LogReg', 'DecTree', 'RandForest', 'NN', 'GaussNB']) #Specify the categories for ordering\n",
    "df_res['Permutation test'].sort_values(['Method', 'Data set'], inplace = True)\n",
    "df_res['Permutation test'].reset_index(drop = True, inplace = True)\n",
    "df_res['Permutation test']['Data set'] = df_res['Permutation test']['Data set'].replace({'CreditApproval' : 'CA', 'GiveMeSomeCredit' : 'GMSC', 'HomeCredit' : 'HCDR', 'CreditCardTaiwan' : 'DCCCT', 'SouthGermanCredit' : 'SGCC'})"
   ]
  },
  {
   "cell_type": "code",
   "execution_count": 16,
   "metadata": {},
   "outputs": [],
   "source": [
    "#Calculate counts of rejection of the null hypothesis\n",
    "perm_counts = df_res['Permutation test'].loc[:, metric_names] <= 0.05\n",
    "perm_counts['Method'] = df_res['Permutation test']['Method']\n",
    "perm_counts = perm_counts.groupby('Method')[metric_names].sum()\n",
    "perm_counts.reset_index(drop = False, inplace = True)\n",
    "perm_counts['Data set'] = 'p <= 0.05'\n",
    "perm_counts['Type'] = '-'\n",
    "perm_counts = perm_counts.loc[:, ['Method', 'Data set', 'Type'] + metric_names]"
   ]
  },
  {
   "cell_type": "code",
   "execution_count": 17,
   "metadata": {},
   "outputs": [],
   "source": [
    "#Prepare permutation tests for export\n",
    "perm_tests_latex = df_res['Permutation test'].copy() #pd.concat([df_res['Permutation test'], perm_counts], ignore_index = True)\n",
    "perm_tests_latex = perm_tests_latex.round(3)\n",
    "for col in metric_names:\n",
    "    for idx in range(perm_tests_latex.shape[0]):\n",
    "        if df_res['Permutation test'].loc[idx, col] <= 0.05:\n",
    "            perm_tests_latex.loc[idx, col] = make_bold(perm_tests_latex.loc[idx, col])\n",
    "perm_tests_latex = pd.concat([perm_tests_latex, perm_counts.drop('Type', axis = 1)], ignore_index = True)\n",
    "perm_tests_latex['Method'] = pd.Categorical(perm_tests_latex['Method'], ['LogReg', 'DecTree', 'RandForest', 'NN', 'GaussNB'])\n",
    "perm_tests_latex['Data set'] = pd.Categorical(perm_tests_latex['Data set'], ['CA', 'GMSC', 'DCCCT', 'HCDR', 'SGCC', 'p <= 0.05'])\n",
    "perm_tests_latex.sort_values(['Method', 'Data set'], inplace = True, ignore_index = True)"
   ]
  },
  {
   "cell_type": "code",
   "execution_count": 18,
   "metadata": {},
   "outputs": [
    {
     "name": "stderr",
     "output_type": "stream",
     "text": [
      "C:\\Users\\matya\\AppData\\Local\\Temp\\ipykernel_14252\\1909926118.py:2: FutureWarning: In future versions `DataFrame.to_latex` is expected to utilise the base implementation of `Styler.to_latex` for formatting and rendering. The arguments signature may therefore change. It is recommended instead to use `DataFrame.style.to_latex` which also contains additional functionality.\n",
      "  perm_tests_latex.to_latex('Run 202307262207 no_outs/complete_permutation_tests_latex.txt', index = False, na_rep = '', caption = 'Permutation tests - estimation without outliers', label = 'tab:nooutsperm', position = '!htbp', escape = False)\n"
     ]
    }
   ],
   "source": [
    "#Export permutation tests\n",
    "perm_tests_latex.to_latex('Run 202307262207 no_outs/complete_permutation_tests_latex.txt', index = False, na_rep = '', caption = 'Permutation tests - estimation without outliers', label = 'tab:nooutsperm', position = '!htbp', escape = False)"
   ]
  },
  {
   "cell_type": "code",
   "execution_count": 19,
   "metadata": {},
   "outputs": [],
   "source": [
    "#Create a summary of the results\n",
    "res_sum = pd.concat([df_metrics_latex.loc[df_metrics_latex['Data set'].isin(['Average', 'binned > raw']) & np.invert(df_metrics_latex['Method'] == 'All'), :], perm_counts], ignore_index = True)\n",
    "res_sum['Method'] = pd.Categorical(res_sum['Method'], ['LogReg', 'DecTree', 'RandForest', 'NN', 'GaussNB'])\n",
    "res_sum['Data set'] = pd.Categorical(res_sum['Data set'], ['binned > raw', 'Average', 'p <= 0.05'])\n",
    "res_sum['Type'] = pd.Categorical(res_sum['Type'], ['binned', 'raw', '-'])\n",
    "res_sum.sort_values(['Method', 'Data set', 'Type'], ignore_index = True, inplace = True)"
   ]
  },
  {
   "cell_type": "code",
   "execution_count": 21,
   "metadata": {},
   "outputs": [
    {
     "name": "stderr",
     "output_type": "stream",
     "text": [
      "C:\\Users\\matya\\AppData\\Local\\Temp\\ipykernel_14252\\1492120278.py:2: FutureWarning: In future versions `DataFrame.to_latex` is expected to utilise the base implementation of `Styler.to_latex` for formatting and rendering. The arguments signature may therefore change. It is recommended instead to use `DataFrame.style.to_latex` which also contains additional functionality.\n",
      "  res_sum.to_latex('Run 202307262207 no_outs/summarized_results_latex.txt', index = False, na_rep = '', caption = 'Results - estimation without outliers', label = 'tab:nooutsres', position = '!htbp', escape = False)\n"
     ]
    }
   ],
   "source": [
    "#Export summary\n",
    "res_sum.to_latex('Run 202307262207 no_outs/summarized_results_latex.txt', index = False, na_rep = '', caption = 'Results - estimation without outliers', label = 'tab:nooutsres', position = '!htbp', escape = False)"
   ]
  },
  {
   "cell_type": "markdown",
   "metadata": {},
   "source": [
    "# Evaluate relationship between metrics"
   ]
  },
  {
   "cell_type": "code",
   "execution_count": 226,
   "metadata": {},
   "outputs": [],
   "source": [
    "#Specify the file name\n",
    "file_name_res = 'D:/My stuff/School/Master/Master Thesis/Project/Run 202307202046 main/Evaluation/main.xlsx'"
   ]
  },
  {
   "cell_type": "code",
   "execution_count": 227,
   "metadata": {},
   "outputs": [],
   "source": [
    "#Load the file\n",
    "df_res = pd.read_excel(file_name_res, sheet_name = 'Metrics', index_col = 0)"
   ]
  },
  {
   "cell_type": "code",
   "execution_count": 230,
   "metadata": {},
   "outputs": [],
   "source": [
    "#Drop averages calculated in Excel\n",
    "df_res = df_res.loc[[i for i in df_res.index if i not in ['Avg_binned', 'Avg_raw']], :]"
   ]
  },
  {
   "cell_type": "code",
   "execution_count": 274,
   "metadata": {},
   "outputs": [],
   "source": [
    "#Calculate correlations\n",
    "cor_mat = df_res.corr()\n",
    "cor_mat = cor_mat.where(np.invert(np.tri(cor_mat.shape[0], dtype = bool, k = -1)))\n",
    "#cor_mat.drop('AUC', axis = 1, inplace = True)\n",
    "cor_mat = cor_mat.round(2)\n",
    "#cor_mat.drop('H-measure', axis = 0, inplace = True)\n",
    "cor_mat.reset_index(drop = False, inplace = True)"
   ]
  },
  {
   "cell_type": "code",
   "execution_count": 275,
   "metadata": {},
   "outputs": [
    {
     "name": "stderr",
     "output_type": "stream",
     "text": [
      "C:\\Users\\matya\\AppData\\Local\\Temp\\ipykernel_2700\\117107076.py:2: FutureWarning: In future versions `DataFrame.to_latex` is expected to utilise the base implementation of `Styler.to_latex` for formatting and rendering. The arguments signature may therefore change. It is recommended instead to use `DataFrame.style.to_latex` which also contains additional functionality.\n",
      "  cor_mat.to_latex('Run 202307202046 main/cor_mat_metrics_latex.txt', index = False, na_rep = '', caption = 'Correlation metrics - metrics', label = 'tab:cormatmet', position = '!htbp', escape = False)\n"
     ]
    }
   ],
   "source": [
    "#Export to latex\n",
    "cor_mat.to_latex('Run 202307202046 main/cor_mat_metrics_latex.txt', index = False, na_rep = '', caption = 'Correlation metrics - metrics', label = 'tab:cormatmet', position = '!htbp', escape = False)"
   ]
  }
 ],
 "metadata": {
  "kernelspec": {
   "display_name": "diploma",
   "language": "python",
   "name": "python3"
  },
  "language_info": {
   "codemirror_mode": {
    "name": "ipython",
    "version": 3
   },
   "file_extension": ".py",
   "mimetype": "text/x-python",
   "name": "python",
   "nbconvert_exporter": "python",
   "pygments_lexer": "ipython3",
   "version": "3.10.9"
  },
  "orig_nbformat": 4
 },
 "nbformat": 4,
 "nbformat_minor": 2
}
